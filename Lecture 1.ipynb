{
 "cells": [
  {
   "cell_type": "markdown",
   "id": "73a017e6",
   "metadata": {},
   "source": [
    "# 1. Demonstration of difference in runtime"
   ]
  },
  {
   "cell_type": "markdown",
   "id": "c38c5baf",
   "metadata": {},
   "source": [
    "# Print the sum of the first n numbers:\n",
    "1) Use the iterative method\n",
    "2) Use the formula"
   ]
  },
  {
   "cell_type": "code",
   "execution_count": 17,
   "id": "45cca7fd",
   "metadata": {},
   "outputs": [
    {
     "name": "stdout",
     "output_type": "stream",
     "text": [
      "55\n",
      "Wall time: 0 ns\n"
     ]
    },
    {
     "data": {
      "text/plain": [
       "55"
      ]
     },
     "execution_count": 17,
     "metadata": {},
     "output_type": "execute_result"
    }
   ],
   "source": [
    "def final_sum(n):\n",
    "    sum=0\n",
    "    for x in range(n+1):\n",
    "        sum+=x\n",
    "    return sum\n",
    "\n",
    "print(final_sum(10))"
   ]
  },
  {
   "cell_type": "code",
   "execution_count": 18,
   "id": "8c94d62a",
   "metadata": {},
   "outputs": [
    {
     "name": "stdout",
     "output_type": "stream",
     "text": [
      "1.05 µs ± 6.8 ns per loop (mean ± std. dev. of 7 runs, 1000000 loops each)\n"
     ]
    }
   ],
   "source": [
    "%timeit final_sum(10)"
   ]
  },
  {
   "cell_type": "code",
   "execution_count": 20,
   "id": "08a93770",
   "metadata": {},
   "outputs": [
    {
     "name": "stdout",
     "output_type": "stream",
     "text": [
      "55\n"
     ]
    }
   ],
   "source": [
    "def final_sum(n):\n",
    "    return n*(n+1)//2\n",
    "\n",
    "print(final_sum(10))"
   ]
  },
  {
   "cell_type": "code",
   "execution_count": 22,
   "id": "af2243db",
   "metadata": {},
   "outputs": [
    {
     "name": "stdout",
     "output_type": "stream",
     "text": [
      "199 ns ± 0.846 ns per loop (mean ± std. dev. of 7 runs, 10000000 loops each)\n"
     ]
    }
   ],
   "source": [
    "%timeit final_sum(10)"
   ]
  },
  {
   "cell_type": "code",
   "execution_count": null,
   "id": "288c715a",
   "metadata": {},
   "outputs": [],
   "source": [
    "  "
   ]
  }
 ],
 "metadata": {
  "kernelspec": {
   "display_name": "Python 3 (ipykernel)",
   "language": "python",
   "name": "python3"
  },
  "language_info": {
   "codemirror_mode": {
    "name": "ipython",
    "version": 3
   },
   "file_extension": ".py",
   "mimetype": "text/x-python",
   "name": "python",
   "nbconvert_exporter": "python",
   "pygments_lexer": "ipython3",
   "version": "3.9.6"
  }
 },
 "nbformat": 4,
 "nbformat_minor": 5
}
