{
 "cells": [
  {
   "cell_type": "markdown",
   "id": "9081564e",
   "metadata": {},
   "source": [
    "# nth to last node"
   ]
  },
  {
   "cell_type": "code",
   "execution_count": 1,
   "id": "de3d78d8",
   "metadata": {},
   "outputs": [],
   "source": [
    "def nth_to_last_node(n,head):\n",
    "    left_pointer=head\n",
    "    right_pointer=head\n",
    "    \n",
    "    for i in range(n-1):\n",
    "        right_pointer=right_pointer.nextnode\n",
    "    \n",
    "    while right_pointer.nextnode:\n",
    "        left_pointer=left_pointer.nextnode\n",
    "        right_pointer=right_pointer.nextnode\n",
    "    return left_pointer"
   ]
  },
  {
   "cell_type": "code",
   "execution_count": 2,
   "id": "9f2550e4",
   "metadata": {},
   "outputs": [],
   "source": [
    "class Node:\n",
    "\n",
    "    def __init__(self, value):\n",
    "        self.value = value\n",
    "        self.nextnode  = None"
   ]
  },
  {
   "cell_type": "code",
   "execution_count": 3,
   "id": "95671cfd",
   "metadata": {},
   "outputs": [
    {
     "name": "stdout",
     "output_type": "stream",
     "text": [
      "ALL TEST CASES PASSED\n"
     ]
    }
   ],
   "source": [
    "\"\"\"\n",
    "RUN THIS CELL TO TEST YOUR SOLUTION AGAINST A TEST CASE \n",
    "\n",
    "PLEASE NOTE THIS IS JUST ONE CASE\n",
    "\"\"\"\n",
    "\n",
    "from nose.tools import assert_equal\n",
    "\n",
    "a = Node(1)\n",
    "b = Node(2)\n",
    "c = Node(3)\n",
    "d = Node(4)\n",
    "e = Node(5)\n",
    "\n",
    "a.nextnode = b\n",
    "b.nextnode = c\n",
    "c.nextnode = d\n",
    "d.nextnode = e\n",
    "\n",
    "####\n",
    "\n",
    "class TestNLast(object):\n",
    "    \n",
    "    def test(self,sol):\n",
    "        \n",
    "        assert_equal(sol(2,a),d)\n",
    "        print ('ALL TEST CASES PASSED')\n",
    "        \n",
    "# Run tests\n",
    "t = TestNLast()\n",
    "t.test(nth_to_last_node)"
   ]
  }
 ],
 "metadata": {
  "kernelspec": {
   "display_name": "Python 3 (ipykernel)",
   "language": "python",
   "name": "python3"
  },
  "language_info": {
   "codemirror_mode": {
    "name": "ipython",
    "version": 3
   },
   "file_extension": ".py",
   "mimetype": "text/x-python",
   "name": "python",
   "nbconvert_exporter": "python",
   "pygments_lexer": "ipython3",
   "version": "3.9.6"
  }
 },
 "nbformat": 4,
 "nbformat_minor": 5
}
