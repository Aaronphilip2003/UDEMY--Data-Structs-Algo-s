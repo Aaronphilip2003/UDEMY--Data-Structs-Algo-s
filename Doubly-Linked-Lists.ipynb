{
 "cells": [
  {
   "cell_type": "markdown",
   "id": "905efa73",
   "metadata": {},
   "source": [
    "# Doubly- Linked Lists"
   ]
  },
  {
   "cell_type": "code",
   "execution_count": 1,
   "id": "2b7f062e",
   "metadata": {},
   "outputs": [],
   "source": [
    "class DoublyLinkedLists():\n",
    "    def __init__(self,data):\n",
    "        self.data=data\n",
    "        self.next_node=None\n",
    "        self.prev_node=None"
   ]
  },
  {
   "cell_type": "code",
   "execution_count": 2,
   "id": "98c7317e",
   "metadata": {},
   "outputs": [],
   "source": [
    "a=DoublyLinkedLists(1)\n",
    "b=DoublyLinkedLists(2)\n",
    "c=DoublyLinkedLists(3)"
   ]
  },
  {
   "cell_type": "code",
   "execution_count": 4,
   "id": "bd9f1c87",
   "metadata": {},
   "outputs": [],
   "source": [
    "a.next_node=b\n",
    "b.prev_node=a"
   ]
  },
  {
   "cell_type": "code",
   "execution_count": 6,
   "id": "9514ca0b",
   "metadata": {},
   "outputs": [],
   "source": [
    "b.next_node=c\n",
    "c.prev_node=b"
   ]
  }
 ],
 "metadata": {
  "kernelspec": {
   "display_name": "Python 3 (ipykernel)",
   "language": "python",
   "name": "python3"
  },
  "language_info": {
   "codemirror_mode": {
    "name": "ipython",
    "version": 3
   },
   "file_extension": ".py",
   "mimetype": "text/x-python",
   "name": "python",
   "nbconvert_exporter": "python",
   "pygments_lexer": "ipython3",
   "version": "3.9.6"
  }
 },
 "nbformat": 4,
 "nbformat_minor": 5
}
